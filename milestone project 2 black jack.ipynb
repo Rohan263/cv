{
 "cells": [
  {
   "cell_type": "markdown",
   "id": "4df91b24",
   "metadata": {},
   "source": [
    "The Game\n",
    "Imports and Global Variables\n",
    "** Step 1: Import the random module. This will be used to shuffle the deck prior to dealing. Then, declare variables to store suits, ranks and values. You can develop your own system, or copy ours below. Finally, declare a Boolean value to be used to control while loops. This is a common practice used to control the flow of the game.**\n",
    "\n",
    "suits = ('Hearts', 'Diamonds', 'Spades', 'Clubs')\n",
    "ranks = ('Two', 'Three', 'Four', 'Five', 'Six', 'Seven', 'Eight', 'Nine', 'Ten', 'Jack', 'Queen', 'King', 'Ace')\n",
    "values = {'Two':2, 'Three':3, 'Four':4, 'Five':5, 'Six':6, 'Seven':7, 'Eight':8, 'Nine':9, 'Ten':10, 'Jack':10,\n",
    "         'Queen':10, 'King':10, 'Ace':11}"
   ]
  },
  {
   "cell_type": "code",
   "execution_count": 100,
   "id": "b795c0eb",
   "metadata": {},
   "outputs": [],
   "source": [
    "import random\n",
    "\n",
    "suits = ('Hearts', 'Diamonds', 'Spades', 'Clubs')\n",
    "ranks = ('Two', 'Three', 'Four', 'Five', 'Six', 'Seven', 'Eight', 'Nine', 'Ten', 'Jack', 'Queen', 'King', 'Ace')\n",
    "values = {'Two':2, 'Three':3, 'Four':4, 'Five':5, 'Six':6, 'Seven':7, 'Eight':8, 'Nine':9, 'Ten':10, 'Jack':10,\n",
    "         'Queen':10, 'King':10, 'Ace':11}\n",
    "playing = True"
   ]
  },
  {
   "cell_type": "markdown",
   "id": "3f38167a",
   "metadata": {},
   "source": [
    "Class Definitions\n",
    "Consider making a Card class where each Card object has a suit and a rank, then a Deck class to hold all 52 Card objects, and can be shuffled, and finally a Hand class that holds those Cards that have been dealt to each player from the Deck.\n",
    "\n",
    "Step 2: Create a Card Class\n",
    "A Card object really only needs two attributes: suit and rank. You might add an attribute for \"value\" - we chose to handle value later when developing our Hand class.\n",
    "In addition to the Card's __init__ method, consider adding a __str__ method that, when asked to print a Card, returns a string in the form \"Two of Hearts\""
   ]
  },
  {
   "cell_type": "code",
   "execution_count": 101,
   "id": "99e9b285",
   "metadata": {},
   "outputs": [],
   "source": [
    "class Card:\n",
    "    \n",
    "    def __init__(self,suit,rank):\n",
    "        self.suit = suit\n",
    "        self.rank = rank\n",
    "    \n",
    "    def __str__(self):\n",
    "        return self.rank+ \" of \" +self.suit"
   ]
  },
  {
   "cell_type": "markdown",
   "id": "5eb54285",
   "metadata": {},
   "source": [
    "Step 3: Create a Deck Class\n",
    "Here we might store 52 card objects in a list that can later be shuffled. First, though, we need to instantiate all 52 unique card objects and add them to our list. So long as the Card class definition appears in our code, we can build Card objects inside our Deck __init__ method. Consider iterating over sequences of suits and ranks to build out each card. This might appear inside a Deck class __init__ method:\n",
    "\n",
    "for suit in suits:\n",
    "    for rank in ranks:\n",
    "\n",
    "In addition to an __init__ method we'll want to add methods to shuffle our deck, and to deal out cards during gameplay.\n",
    "\n",
    "OPTIONAL: We may never need to print the contents of the deck during gameplay, but having the ability to see the cards inside it may help troubleshoot any problems that occur during development. With this in mind, consider adding a __str__ method to the class definition."
   ]
  },
  {
   "cell_type": "code",
   "execution_count": 102,
   "id": "0f483cb4",
   "metadata": {},
   "outputs": [],
   "source": [
    "class Deck:\n",
    "    \n",
    "    def __init__(self):\n",
    "        self.deck = []  # start with an empty list\n",
    "        for suit in suits:\n",
    "            for rank in ranks:\n",
    "                self.deck.append(Card(suit,rank))\n",
    "    \n",
    "    def __str__(self):\n",
    "        deck_comp = ''\n",
    "        for card in self.deck:\n",
    "            deck_comp += '\\n' + card.__str__()\n",
    "        return \"The deck has: \"+deck_comp\n",
    "\n",
    "    def shuffle(self):\n",
    "        random.shuffle(self.deck)\n",
    "        \n",
    "    def deal(self):\n",
    "        single_card = self.deck.pop()\n",
    "        return single_card"
   ]
  },
  {
   "cell_type": "markdown",
   "id": "7bd6f13d",
   "metadata": {},
   "source": [
    "TESTING: Just to see that everything works so far, let's see what our Deck looks like!\n",
    "\n"
   ]
  },
  {
   "cell_type": "code",
   "execution_count": 103,
   "id": "3f897c27",
   "metadata": {},
   "outputs": [
    {
     "name": "stdout",
     "output_type": "stream",
     "text": [
      "The deck has: \n",
      "Six of Spades\n",
      "Ace of Clubs\n",
      "Three of Hearts\n",
      "Four of Diamonds\n",
      "Nine of Diamonds\n",
      "Seven of Hearts\n",
      "Nine of Spades\n",
      "Queen of Diamonds\n",
      "Ace of Diamonds\n",
      "Seven of Spades\n",
      "Ten of Hearts\n",
      "Jack of Diamonds\n",
      "Two of Hearts\n",
      "Two of Spades\n",
      "Two of Clubs\n",
      "Nine of Hearts\n",
      "Queen of Spades\n",
      "Jack of Clubs\n",
      "Jack of Spades\n",
      "Four of Hearts\n",
      "Two of Diamonds\n",
      "Six of Diamonds\n",
      "Seven of Diamonds\n",
      "Three of Clubs\n",
      "Four of Clubs\n",
      "Ten of Diamonds\n",
      "Five of Spades\n",
      "Ace of Hearts\n",
      "Ace of Spades\n",
      "King of Spades\n",
      "Queen of Clubs\n",
      "Nine of Clubs\n",
      "Five of Diamonds\n",
      "Eight of Diamonds\n",
      "King of Hearts\n",
      "King of Diamonds\n",
      "Ten of Clubs\n",
      "Eight of Hearts\n",
      "Eight of Spades\n",
      "King of Clubs\n",
      "Six of Hearts\n",
      "Seven of Clubs\n",
      "Jack of Hearts\n",
      "Queen of Hearts\n",
      "Three of Diamonds\n",
      "Six of Clubs\n",
      "Ten of Spades\n",
      "Four of Spades\n",
      "Five of Clubs\n",
      "Three of Spades\n",
      "Five of Hearts\n",
      "Eight of Clubs\n"
     ]
    }
   ],
   "source": [
    "test_deck = Deck()\n",
    "test_deck.shuffle()\n",
    "print(test_deck)"
   ]
  },
  {
   "cell_type": "markdown",
   "id": "23640a4c",
   "metadata": {},
   "source": [
    "Great! Now let's move on to our Hand class.\n",
    "\n",
    "Step 4: Create a Hand Class\n",
    "In addition to holding Card objects dealt from the Deck, the Hand class may be used to calculate the value of those cards using the values dictionary defined above. It may also need to adjust for the value of Aces when appropriate."
   ]
  },
  {
   "cell_type": "code",
   "execution_count": 104,
   "id": "cb56945a",
   "metadata": {},
   "outputs": [],
   "source": [
    "class Hand:\n",
    "    def __init__(self):\n",
    "        self.cards = []  # start with an empty list as we did in the Deck class\n",
    "        self.value = 0   # start with zero value\n",
    "        self.aces = 0    # add an attribute to keep track of aces\n",
    "    \n",
    "    def add_card(self,card):\n",
    "        # card passed in\n",
    "        # from Deck.deal ()--> single card(suit,rank)\n",
    "        self.cards.append(card)\n",
    "        self.value += values[card.rank]\n",
    "        \n",
    "        # track aces\n",
    "        if card.rank == 'Ace':\n",
    "            self.aces += 1\n",
    "    \n",
    "    \n",
    "    \n",
    "    \n",
    "    def adjust_for_ace(self):\n",
    "        \n",
    "        # If total value > 21 and I still have an ace\n",
    "        # Then change my ace to be a 1 instead of an 11\n",
    "        \n",
    "        while self.value > 21 and self.aces:\n",
    "            self.value -= 10\n",
    "            self.aces -= 1"
   ]
  },
  {
   "cell_type": "code",
   "execution_count": 105,
   "id": "1e6bdc16",
   "metadata": {},
   "outputs": [],
   "source": [
    "# TESTING THE CODE ABOVE WITH THIS EXAMPLE\n",
    "\n",
    "zero = 0\n",
    "one = 1\n",
    "two = 2"
   ]
  },
  {
   "cell_type": "code",
   "execution_count": 106,
   "id": "0f33bdb7",
   "metadata": {},
   "outputs": [
    {
     "name": "stdout",
     "output_type": "stream",
     "text": [
      "True\n"
     ]
    }
   ],
   "source": [
    "if 2:\n",
    "    print(True)"
   ]
  },
  {
   "cell_type": "code",
   "execution_count": 107,
   "id": "28a6cbc2",
   "metadata": {},
   "outputs": [
    {
     "name": "stdout",
     "output_type": "stream",
     "text": [
      "Seven of Clubs\n",
      "7\n"
     ]
    }
   ],
   "source": [
    "test_deck = Deck()\n",
    "test_deck.shuffle()\n",
    "\n",
    "# PLAYER\n",
    "test_player = Hand()\n",
    "# Deal 1 card from the deck CARD(suit,rank)\n",
    "pulled_card = test_deck.deal()\n",
    "print(pulled_card)\n",
    "test_player.add_card(pulled_card)\n",
    "print(test_player.value)"
   ]
  },
  {
   "cell_type": "code",
   "execution_count": 108,
   "id": "d312c925",
   "metadata": {},
   "outputs": [],
   "source": [
    "# A way to write the code above but using fewer lines\n",
    "\n",
    "test_player.add_card(test_deck.deal())\n"
   ]
  },
  {
   "cell_type": "code",
   "execution_count": 109,
   "id": "9256e8e0",
   "metadata": {},
   "outputs": [
    {
     "data": {
      "text/plain": [
       "9"
      ]
     },
     "execution_count": 109,
     "metadata": {},
     "output_type": "execute_result"
    }
   ],
   "source": [
    "test_player.value"
   ]
  },
  {
   "cell_type": "markdown",
   "id": "5274ae05",
   "metadata": {},
   "source": [
    "Step 5: Create a Chips Class\n",
    "In addition to decks of cards and hands, we need to keep track of a Player's starting chips, bets, and ongoing winnings. This could be done using global variables, but in the spirit of object oriented programming, let's make a Chips class instead!"
   ]
  },
  {
   "cell_type": "code",
   "execution_count": 110,
   "id": "6c752758",
   "metadata": {},
   "outputs": [],
   "source": [
    "class Chips:\n",
    "    \n",
    "    def __init__(self,total = 100):\n",
    "        self.total = total  # This can be set to a default value or supplied by a user input\n",
    "        self.bet = 0\n",
    "        \n",
    "    def win_bet(self):\n",
    "        self.total += self.bet\n",
    "    \n",
    "    def lose_bet(self):\n",
    "        self.total -= self.bet"
   ]
  },
  {
   "cell_type": "markdown",
   "id": "e6ccea4c",
   "metadata": {},
   "source": [
    "Function Defintions\n",
    "A lot of steps are going to be repetitive. That's where functions come in! The following steps are guidelines - add or remove functions as needed in your own program.\n",
    "\n",
    "Step 6: Write a function for taking bets\n",
    "Since we're asking the user for an integer value, this would be a good place to use try/except. Remember to check that a Player's bet can be covered by their available chips."
   ]
  },
  {
   "cell_type": "code",
   "execution_count": 111,
   "id": "969af43f",
   "metadata": {},
   "outputs": [],
   "source": [
    "def take_bet(chips):\n",
    "    \n",
    "    while True:\n",
    "        \n",
    "        try:\n",
    "            chips.bet = int(input(\"How many chips would you like to bet? \"))\n",
    "        except:\n",
    "            print(\"Sorry please provide and integer\")\n",
    "        else:\n",
    "            if chips.bet > chips.total:\n",
    "                print(\"Sorry, you don't have enough chips! You have {} \".format(chips.total))\n",
    "            else:\n",
    "                break\n",
    "        "
   ]
  },
  {
   "cell_type": "markdown",
   "id": "62975a34",
   "metadata": {},
   "source": [
    "\n",
    "Step 7: Write a function for taking hits\n",
    "Either player can take hits until they bust. This function will be called during gameplay anytime a Player requests a hit, or a Dealer's hand is less than 17. It should take in Deck and Hand objects as arguments, and deal one card off the deck and add it to the Hand. You may want it to check for aces in the event that a player's hand exceeds 21.\n",
    "\n"
   ]
  },
  {
   "cell_type": "code",
   "execution_count": 112,
   "id": "e81e8e9f",
   "metadata": {},
   "outputs": [],
   "source": [
    "def hit(deck,hand):\n",
    "    \n",
    "    single_card = deck.deal()\n",
    "    hand.add_card(single_card)\n",
    "    hand.adjust_for_ace()"
   ]
  },
  {
   "cell_type": "markdown",
   "id": "e8a49561",
   "metadata": {},
   "source": [
    "Step 8: Write a function prompting the Player to Hit or Stand\n",
    "This function should accept the deck and the player's hand as arguments, and assign playing as a global variable.\n",
    "If the Player Hits, employ the hit() function above. If the Player Stands, set the playing variable to False - this will control the behavior of a while loop later on in our code."
   ]
  },
  {
   "cell_type": "code",
   "execution_count": 113,
   "id": "1a7aa6c9",
   "metadata": {},
   "outputs": [],
   "source": [
    "def hit_or_stand(deck,hand):\n",
    "    global playing  # to control an upcoming while loop\n",
    "    \n",
    "    while True:\n",
    "        \n",
    "        x = input('Would you like to Hit or Stand? Enter h or s' )\n",
    "        \n",
    "        if x[0].lower() == 'h':\n",
    "            hit(deck,hand) #hit function defined above\n",
    "            \n",
    "        elif x[0].lower() == 's':\n",
    "            print(\"Player stands. Dealer is playing. \")\n",
    "            playing = False\n",
    "            \n",
    "        else:\n",
    "            print(\"Sorry, please try again. \")\n",
    "            continue\n",
    "            \n",
    "        break\n",
    "            "
   ]
  },
  {
   "cell_type": "markdown",
   "id": "af63c1bb",
   "metadata": {},
   "source": [
    "Step 9: Write functions to display cards\n",
    "When the game starts, and after each time Player takes a card, the dealer's first card is hidden and all of Player's cards are visible. At the end of the hand all cards are shown, and you may want to show each hand's total value. Write a function for each of these scenarios."
   ]
  },
  {
   "cell_type": "code",
   "execution_count": 114,
   "id": "b0481f1a",
   "metadata": {},
   "outputs": [],
   "source": [
    "def show_some(player,dealer):\n",
    "    \n",
    "    \n",
    "    # dealer.cards [1]\n",
    "    # Show only 1 of the dealer's cards\n",
    "    print(\"\\n Dealer's Hand: \")\n",
    "    print(\"First card hidden!\")\n",
    "    print(dealer.cards[1])\n",
    "    \n",
    "    # Show all (2 cards) of the player's hand/cards\n",
    "    print(\"\\n Player's Hand: \")\n",
    "    for card in player.cards:\n",
    "        print(card)\n",
    "    \n",
    "def show_all(player,dealer):\n",
    "    \n",
    "    # Show all dealer's cards\n",
    "    print(\"\\n Dealer's Hand: \")\n",
    "    for card in dealer.cards:\n",
    "        print(card)\n",
    "    \n",
    "    # Calculate and display value (J+K == 20)\n",
    "    print(f\"Value of Dealer's hand is: {dealer.value}\")\n",
    "    # Show all the player's cards\n",
    "    print(\"\\n Player's Hand: \")\n",
    "    for cards in player.cards:\n",
    "        print(card)\n",
    "    print(f\"Value of Player's hand is: {player.value}\")\n",
    "\n",
    "\n"
   ]
  },
  {
   "cell_type": "markdown",
   "id": "9d5f6e79",
   "metadata": {},
   "source": [
    "Step 10: Write functions to handle end of game scenarios\n",
    "Remember to pass player's hand, dealer's hand and chips as needed."
   ]
  },
  {
   "cell_type": "code",
   "execution_count": 115,
   "id": "4abb01a9",
   "metadata": {},
   "outputs": [],
   "source": [
    "def player_busts(player,dealer,chips):\n",
    "    print('BUST PLAYER!')\n",
    "    chips.lose_bet()\n",
    "\n",
    "def player_wins(player,dealer,chips):\n",
    "    print('PLAYER WINS!')\n",
    "    chips.win_bet()\n",
    "\n",
    "def dealer_busts(player,dealer,chips):\n",
    "    print('PLAYER WINS!' 'DEALER BUSTED!')\n",
    "    chips.win_bet()\n",
    "    \n",
    "def dealer_wins(player,dealer,chips):\n",
    "    print('DEALER WINS!')\n",
    "    chips.lose_bet()\n",
    "    \n",
    "def push(player,dealer):\n",
    "    print(\"Dealer and Player tie! PUSH\")"
   ]
  },
  {
   "cell_type": "markdown",
   "id": "ee031319",
   "metadata": {},
   "source": [
    "And now on to the game!!"
   ]
  },
  {
   "cell_type": "code",
   "execution_count": 119,
   "id": "dafb6fe8",
   "metadata": {},
   "outputs": [
    {
     "name": "stdout",
     "output_type": "stream",
     "text": [
      "WELCOME TO BLACKJACK\n",
      "How many chips would you like to bet? 55\n",
      "\n",
      " Dealer's Hand: \n",
      "First card hidden!\n",
      "Eight of Hearts\n",
      "\n",
      " Player's Hand: \n",
      "Queen of Spades\n",
      "Seven of Spades\n",
      "\n",
      " Dealer's Hand: \n",
      "Jack of Clubs\n",
      "Eight of Hearts\n",
      "Value of Dealer's hand is: 18\n",
      "\n",
      " Player's Hand: \n",
      "Eight of Hearts\n",
      "Eight of Hearts\n",
      "Value of Player's hand is: 17\n",
      "DEALER WINS!\n",
      "\n",
      " Player total chips are at: 45\n",
      "Would you like to play another hand? y/ny\n",
      "WELCOME TO BLACKJACK\n",
      "How many chips would you like to bet? 78\n",
      "\n",
      " Dealer's Hand: \n",
      "First card hidden!\n",
      "Two of Hearts\n",
      "\n",
      " Player's Hand: \n",
      "Six of Hearts\n",
      "Six of Spades\n",
      "Would you like to Hit or Stand? Enter h or sh\n",
      "\n",
      " Dealer's Hand: \n",
      "First card hidden!\n",
      "Two of Hearts\n",
      "\n",
      " Player's Hand: \n",
      "Six of Hearts\n",
      "Six of Spades\n",
      "Three of Hearts\n",
      "Would you like to Hit or Stand? Enter h or sh\n",
      "\n",
      " Dealer's Hand: \n",
      "First card hidden!\n",
      "Two of Hearts\n",
      "\n",
      " Player's Hand: \n",
      "Six of Hearts\n",
      "Six of Spades\n",
      "Three of Hearts\n",
      "Queen of Clubs\n",
      "BUST PLAYER!\n",
      "\n",
      " Player total chips are at: 22\n",
      "Would you like to play another hand? y/ny\n",
      "WELCOME TO BLACKJACK\n",
      "How many chips would you like to bet? 8\n",
      "\n",
      " Dealer's Hand: \n",
      "First card hidden!\n",
      "Ten of Diamonds\n",
      "\n",
      " Player's Hand: \n",
      "Seven of Diamonds\n",
      "Six of Diamonds\n",
      "Would you like to Hit or Stand? Enter h or sh\n",
      "\n",
      " Dealer's Hand: \n",
      "First card hidden!\n",
      "Ten of Diamonds\n",
      "\n",
      " Player's Hand: \n",
      "Seven of Diamonds\n",
      "Six of Diamonds\n",
      "Jack of Spades\n",
      "BUST PLAYER!\n",
      "\n",
      " Player total chips are at: 92\n",
      "Would you like to play another hand? y/nn\n",
      "Thank you for playing!\n"
     ]
    }
   ],
   "source": [
    "while True:\n",
    "    # Print an opening statement\n",
    "    print(\"WELCOME TO BLACKJACK\")\n",
    "\n",
    "    \n",
    "    # Create & shuffle the deck, deal two cards to each player\n",
    "    deck = Deck()\n",
    "    deck.shuffle()\n",
    "    \n",
    "    player_hand = Hand()\n",
    "    player_hand.add_card(deck.deal())\n",
    "    player_hand.add_card(deck.deal())\n",
    "    \n",
    "    \n",
    "    dealer_hand = Hand()\n",
    "    dealer_hand.add_card(deck.deal())\n",
    "    dealer_hand.add_card(deck.deal())\n",
    "        \n",
    "    # Set up the Player's chips\n",
    "    player_chips = Chips()\n",
    "    \n",
    "    # Prompt the Player for their bet\n",
    "    take_bet(player_chips)\n",
    "    \n",
    "    # Show cards (but keep one dealer card hidden)\n",
    "    show_some(player_hand,dealer_hand)\n",
    "    \n",
    "    while playing:  # recall this variable from our hit_or_stand function\n",
    "        \n",
    "        # Prompt for Player to Hit or Stand\n",
    "        hit_or_stand(deck,player_hand)\n",
    "        \n",
    "        # Show cards (but keep one dealer card hidden)\n",
    "        show_some(player_hand,dealer_hand)\n",
    "        \n",
    "        # If player's hand exceeds 21, run player_busts() and break out of loop\n",
    "        if player_hand.value > 21:\n",
    "            player_busts(player_hand,dealer_hand,player_chips)\n",
    "\n",
    "            break\n",
    "\n",
    "    # If Player hasn't busted, play Dealer's hand until Dealer reaches 17\n",
    "    if player_hand.value <= 21:\n",
    "        \n",
    "        while dealer_hand.value < player_hand.value:\n",
    "            hit(deck,dealer_hand)\n",
    "\n",
    "    \n",
    "        # Show all cards\n",
    "        show_all(player_hand,dealer_hand)\n",
    "        \n",
    "        # Run different winning scenarios\n",
    "        if dealer_hand.value > 21:\n",
    "            dealer_busts(player_hand,dealer_hand,player_chips)\n",
    "        elif dealer_hand.value > player_hand.value:\n",
    "            dealer_wins(player_hand,dealer_hand,player_chips)\n",
    "        elif dealer_hand.value < player_hand.value:\n",
    "            player_wins(player_hand,dealer_hand,player_chips)\n",
    "        else:\n",
    "            push(player_hand,dealer_hand)\n",
    "    \n",
    "    # Inform Player of their chips total \n",
    "    print('\\n Player total chips are at: {}' .format(player_chips.total))\n",
    "    \n",
    "    # Ask to play again\n",
    "    new_game = input(\"Would you like to play another hand? y/n\")\n",
    "    \n",
    "    if new_game[0].lower() == 'y':\n",
    "        playing = True\n",
    "        continue\n",
    "    else:\n",
    "        print('Thank you for playing!')\n",
    "        break"
   ]
  },
  {
   "cell_type": "code",
   "execution_count": null,
   "id": "ef1faa58",
   "metadata": {},
   "outputs": [],
   "source": []
  },
  {
   "cell_type": "code",
   "execution_count": null,
   "id": "eb67462a",
   "metadata": {},
   "outputs": [],
   "source": []
  }
 ],
 "metadata": {
  "kernelspec": {
   "display_name": "Python 3 (ipykernel)",
   "language": "python",
   "name": "python3"
  },
  "language_info": {
   "codemirror_mode": {
    "name": "ipython",
    "version": 3
   },
   "file_extension": ".py",
   "mimetype": "text/x-python",
   "name": "python",
   "nbconvert_exporter": "python",
   "pygments_lexer": "ipython3",
   "version": "3.11.5"
  }
 },
 "nbformat": 4,
 "nbformat_minor": 5
}
